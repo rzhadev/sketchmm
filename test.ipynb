{
 "cells": [
  {
   "cell_type": "code",
   "execution_count": 3,
   "metadata": {},
   "outputs": [
    {
     "data": {
      "image/png": "[encoded data removed]",
      "text/plain": [
       "<Figure size 432x288 with 1 Axes>"
      ]
     },
     "metadata": {
      "needs_background": "light"
     },
     "output_type": "display_data"
    }
   ],
   "source": [
    "%matplotlib inline\n",
    "import numpy as np\n",
    "import matplotlib.pyplot as plt\n",
    "\n",
    "\n",
    "def ljp(r, epsilon, sigma):\n",
    "    \n",
    "    return  4 * epsilon * (np.power((sigma/r), 12) - np.power((sigma/r), 6))\n",
    "\n",
    "def force(delta_x, delta_y, epsilon, sigma):\n",
    "    delta_x_sq = delta_x * delta_x\n",
    "    delta_y_sq = delta_y * delta_y\n",
    "    r_sq = delta_x_sq + delta_y_sq\n",
    "    inv_r_sq = 1/(r_sq)\n",
    "    pinv_r_sq = sigma/(r_sq)\n",
    "    term2 = pinv_r_sq * pinv_r_sq * pinv_r_sq\n",
    "    term1 = term2 * term2\n",
    "    forcex = delta_x * (24 * epsilon * ((2*term1) - term2) * inv_r_sq)  # noqa\n",
    "    forcey = delta_y * (24 * epsilon * ((2*term1) - term2) * inv_r_sq)  # noqa\n",
    "\n",
    "    return np.power((forcex * forcex + forcey * forcey), 0.5)\n",
    "\n",
    "epsilon = 1\n",
    "sigma = 1\n",
    "r = np.linspace(.9, 5, 100)\n",
    "plt.plot(r, ljp(r, epsilon, sigma))\n",
    "plt.xlabel('Distance (Angstrom)')\n",
    "plt.ylabel('Potential Energy (eV)')\n",
    "plt.show()\n"
   ]
  },
  {
   "cell_type": "code",
   "execution_count": 4,
   "metadata": {},
   "outputs": [
    {
     "name": "stdout",
     "output_type": "stream",
     "text": [
      "0.2570387124837225\n"
     ]
    }
   ],
   "source": [
    "print(force(1.8976287801362834,-0.09581363819374067, 1, 1))"
   ]
  },
  {
   "cell_type": "code",
   "execution_count": null,
   "metadata": {},
   "outputs": [],
   "source": []
  },
  {
   "cell_type": "code",
   "execution_count": null,
   "metadata": {},
   "outputs": [],
   "source": []
  },
  {
   "cell_type": "code",
   "execution_count": null,
   "metadata": {},
   "outputs": [],
   "source": []
  }
 ],
 "metadata": {
  "kernelspec": {
   "display_name": "Python 3",
   "language": "python",
   "name": "python3"
  },
  "language_info": {
   "codemirror_mode": {
    "name": "ipython",
    "version": 3
   },
   "file_extension": ".py",
   "mimetype": "text/x-python",
   "name": "python",
   "nbconvert_exporter": "python",
   "pygments_lexer": "ipython3",
   "version": "3.7.4"
  }
 },
 "nbformat": 4,
 "nbformat_minor": 2
}
